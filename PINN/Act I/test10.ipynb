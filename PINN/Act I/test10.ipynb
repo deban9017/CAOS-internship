{
 "cells": [
  {
   "cell_type": "markdown",
   "id": "f306984c",
   "metadata": {},
   "source": [
    "The concept in this is true ZS. But looks like I accidentally deleted some code blocks. Now unusable. Also smoothness loss not used here."
   ]
  },
  {
   "cell_type": "markdown",
   "id": "6229e275",
   "metadata": {},
   "source": [
    "### True ZS\n"
   ]
  },
  {
   "cell_type": "code",
   "execution_count": 1,
   "id": "32a55832",
   "metadata": {},
   "outputs": [
    {
     "name": "stderr",
     "output_type": "stream",
     "text": [
      "C:\\Users\\deban\\AppData\\Local\\Temp\\ipykernel_32128\\72355899.py:8: FutureWarning: In a future version of xarray decode_timedelta will default to False rather than None. To silence this warning, set decode_timedelta to True, False, or a 'CFTimedeltaCoder' instance.\n",
      "  ds = xr.open_dataset('../dat/RBC_Output.nc')  # Adjust path as needed\n"
     ]
    },
    {
     "name": "stdout",
     "output_type": "stream",
     "text": [
      "✅ Data Loaded → X: torch.Size([49, 3, 50, 128]), Y: torch.Size([49, 50, 128]), t: torch.Size([49, 1])\n"
     ]
    }
   ],
   "source": [
    "import numpy as np\n",
    "import torch\n",
    "import xarray as xr\n",
    "\n",
    "device = torch.device('cuda' if torch.cuda.is_available() else 'cpu')\n",
    "\n",
    "# ===== 1. Load Dataset =====\n",
    "ds = xr.open_dataset('../dat/RBC_Output.nc')  # Adjust path as needed\n",
    "\n",
    "z_full = ds['z_aac'].values\n",
    "x_full = ds['x_caa'].values\n",
    " \n",
    "# Select 50 z points (top depths) and 128 evenly spaced x points\n",
    "z_sel_idx = np.linspace(0, 99, 50, dtype=int)     # Top 100 → select 50\n",
    "x_sel_idx = np.linspace(0, len(x_full)-1, 128, dtype=int)\n",
    "\n",
    "z_vals = z_full[z_sel_idx]\n",
    "x_vals = x_full[x_sel_idx]\n",
    "\n",
    "def slice_field(field, z_dim, x_dim):\n",
    "    return np.array(field.isel({z_dim: z_sel_idx, x_dim: x_sel_idx}).values, dtype=np.float32)\n",
    "\n",
    "max_time_steps = 50  # Use first 50 time steps\n",
    "b = slice_field(ds['b'].isel(time=slice(0, max_time_steps)), 'z_aac', 'x_caa')\n",
    "u = slice_field(ds['u'].isel(time=slice(0, max_time_steps)), 'z_aac', 'x_faa')\n",
    "w = slice_field(ds['w'].isel(time=slice(0, max_time_steps)), 'z_aaf', 'x_caa')\n",
    "p_dyn = slice_field(ds['p_dyn'].isel(time=slice(0, max_time_steps)), 'z_aac', 'x_caa')\n",
    "\n",
    "time_vals = np.array(ds['time'].isel(time=slice(0, max_time_steps)).values, dtype=np.float32)\n",
    "\n",
    "# ===== 2. Compute Δb =====\n",
    "delta_b = b[1:] - b[:-1]        # (T-1, 50, 128)\n",
    "time_d = time_vals[1:]          # (T-1,)\n",
    "\n",
    "# ===== 3. Stack Inputs =====\n",
    "inputs = np.stack([u[:-1], w[:-1], p_dyn[:-1]], axis=1).astype(np.float32)  # (T-1, 3, 50, 128)\n",
    "# targets = delta_b.astype(np.float32)                                        # (T-1, 50, 128)\n",
    "# ===== 2. Use b directly =====\n",
    "targets = b[:-1].astype(np.float32)  # (T-1, 50, 128) → b instead of Δb\n",
    "\n",
    "\n",
    "# ===== 4. Quick Normalization =====\n",
    "subset = min(10, inputs.shape[0])\n",
    "inputs_mean = inputs[:subset].mean()\n",
    "inputs_std = inputs[:subset].std()\n",
    "inputs_norm = (inputs - inputs_mean) / (inputs_std + 1e-8)\n",
    "\n",
    "targets_mean = targets[:subset].mean()\n",
    "targets_std = targets[:subset].std()\n",
    "targets_norm = (targets - targets_mean) / (targets_std + 1e-8)\n",
    "\n",
    "time_min, time_max = time_d.min(), time_d.max()\n",
    "time_norm = (time_d - time_min) / (time_max - time_min)\n",
    "\n",
    "# ===== 5. Convert to Tensors =====\n",
    "X_tensor = torch.tensor(inputs_norm, dtype=torch.float32).to(device)       # (T-1, 3, 50, 128)\n",
    "Y_tensor = torch.tensor(targets_norm, dtype=torch.float32).to(device)      # (T-1, 50, 128)\n",
    "t_tensor = torch.tensor(time_norm, dtype=torch.float32).unsqueeze(1).to(device)  # (T-1, 1)\n",
    "\n",
    "print(f\"✅ Data Loaded → X: {X_tensor.shape}, Y: {Y_tensor.shape}, t: {t_tensor.shape}\")\n"
   ]
  },
  {
   "cell_type": "code",
   "execution_count": 2,
   "id": "0530a389",
   "metadata": {},
   "outputs": [
    {
     "name": "stdout",
     "output_type": "stream",
     "text": [
      "Init idx: 70, Target idx: 71\n"
     ]
    }
   ],
   "source": [
    "import numpy as np\n",
    "import torch\n",
    "\n",
    "# Set random seed for reproducibility\n",
    "seed = 42\n",
    "np.random.seed(seed)\n",
    "torch.manual_seed(seed)\n",
    "\n",
    "max_time_steps = 100  # Use first 50 time steps\n",
    "\n",
    "# Select first 50 time steps\n",
    "X_subset = X_tensor[:max_time_steps]     # (50, 3, 50, 128)\n",
    "Y_subset = Y_tensor[:max_time_steps]     # (50, 50, 128)\n",
    "t_subset = t_tensor[:max_time_steps]     # (50, 1)\n",
    "\n",
    "# Randomly choose 2 distinct time indices (init < target)\n",
    "time_indices = np.sort(np.random.choice(np.arange(50), size=2, replace=False))\n",
    "# init_idx, target_idx = time_indices[0], time_indices[0] + 1\n",
    "init_idx, target_idx = 70, 71\n",
    "\n",
    "print(f\"Init idx: {init_idx}, Target idx: {target_idx}\")\n"
   ]
  },
  {
   "cell_type": "code",
   "execution_count": 3,
   "id": "77a08b75",
   "metadata": {},
   "outputs": [
    {
     "ename": "IndexError",
     "evalue": "index 70 is out of bounds for dimension 0 with size 49",
     "output_type": "error",
     "traceback": [
      "\u001b[1;31m---------------------------------------------------------------------------\u001b[0m",
      "\u001b[1;31mIndexError\u001b[0m                                Traceback (most recent call last)",
      "Cell \u001b[1;32mIn[3], line 22\u001b[0m\n\u001b[0;32m     19\u001b[0m     plt\u001b[38;5;241m.\u001b[39mgrid()\n\u001b[0;32m     20\u001b[0m     plt\u001b[38;5;241m.\u001b[39mshow()\n\u001b[1;32m---> 22\u001b[0m \u001b[43mplot_b_profiles\u001b[49m\u001b[43m(\u001b[49m\u001b[43minit_idx\u001b[49m\u001b[43m,\u001b[49m\u001b[43m \u001b[49m\u001b[43mtarget_idx\u001b[49m\u001b[43m)\u001b[49m\n",
      "Cell \u001b[1;32mIn[3], line 7\u001b[0m, in \u001b[0;36mplot_b_profiles\u001b[1;34m(init_idx, target_idx)\u001b[0m\n\u001b[0;32m      5\u001b[0m plt\u001b[38;5;241m.\u001b[39mfigure(figsize\u001b[38;5;241m=\u001b[39m(\u001b[38;5;241m10\u001b[39m, \u001b[38;5;241m6\u001b[39m))\n\u001b[0;32m      6\u001b[0m \u001b[38;5;66;03m# Ensure tensors are on CPU before converting to numpy\u001b[39;00m\n\u001b[1;32m----> 7\u001b[0m y_init \u001b[38;5;241m=\u001b[39m \u001b[43mY_subset\u001b[49m\u001b[43m[\u001b[49m\u001b[43minit_idx\u001b[49m\u001b[43m]\u001b[49m\n\u001b[0;32m      8\u001b[0m y_target \u001b[38;5;241m=\u001b[39m Y_subset[target_idx]\n\u001b[0;32m      9\u001b[0m \u001b[38;5;28;01mif\u001b[39;00m \u001b[38;5;28mhasattr\u001b[39m(y_init, \u001b[38;5;124m'\u001b[39m\u001b[38;5;124mcpu\u001b[39m\u001b[38;5;124m'\u001b[39m):\n",
      "\u001b[1;31mIndexError\u001b[0m: index 70 is out of bounds for dimension 0 with size 49"
     ]
    },
    {
     "data": {
      "text/plain": [
       "<Figure size 1000x600 with 0 Axes>"
      ]
     },
     "metadata": {},
     "output_type": "display_data"
    }
   ],
   "source": [
    "# plot the initial and target b_avg (averaged along x) vs z profiles\n",
    "import matplotlib.pyplot as plt\n",
    "\n",
    "def plot_b_profiles(init_idx, target_idx):\n",
    "    plt.figure(figsize=(10, 6))\n",
    "    # Ensure tensors are on CPU before converting to numpy\n",
    "    y_init = Y_subset[init_idx]\n",
    "    y_target = Y_subset[target_idx]\n",
    "    if hasattr(y_init, 'cpu'):\n",
    "        y_init = y_init.cpu().numpy()\n",
    "    if hasattr(y_target, 'cpu'):\n",
    "        y_target = y_target.cpu().numpy()\n",
    "    plt.plot(z_vals, y_init.mean(axis=1), label=f'Init (t={init_idx})', marker='o')\n",
    "    plt.plot(z_vals, y_target.mean(axis=1), label=f'Target (t={target_idx})', marker='x')\n",
    "    plt.xlabel('Depth (z)')\n",
    "    plt.ylabel('b_avg')\n",
    "    plt.title('b_avg vs Depth Profiles')\n",
    "    plt.legend()\n",
    "    plt.grid()\n",
    "    plt.show()\n",
    "\n",
    "plot_b_profiles(init_idx, target_idx)\n"
   ]
  },
  {
   "cell_type": "code",
   "execution_count": null,
   "id": "6316a73a",
   "metadata": {},
   "outputs": [],
   "source": [
    "X_init = X_subset[init_idx].unsqueeze(0).to(device)      # (1, 3, 50, 128)\n",
    "Y_init = Y_subset[init_idx].unsqueeze(0).to(device)      # (1, 50, 128)\n",
    "t_init = t_subset[init_idx].unsqueeze(0).to(device)      # (1, 1)\n",
    "\n",
    "X_target = X_subset[target_idx].unsqueeze(0).to(device)  # (1, 3, 50, 128)\n",
    "Y_target = Y_subset[target_idx].unsqueeze(0).to(device)  # (1, 50, 128)\n",
    "t_target = t_subset[target_idx].unsqueeze(0).to(device)  # (1, 1)\n"
   ]
  },
  {
   "cell_type": "code",
   "execution_count": null,
   "id": "bc431903",
   "metadata": {},
   "outputs": [],
   "source": [
    "import torch\n",
    "import torch.nn as nn\n",
    "\n",
    "\n",
    "class DeepONetCNN(nn.Module):\n",
    "\n",
    "    def init_weights(self):\n",
    "        for m in self.modules():\n",
    "            if isinstance(m, nn.Conv2d) or isinstance(m, nn.Linear):\n",
    "                nn.init.xavier_uniform_(m.weight)\n",
    "                if m.bias is not None:\n",
    "                    nn.init.zeros_(m.bias)\n",
    "    def __init__(self):\n",
    "        super(DeepONetCNN, self).__init__()\n",
    "\n",
    "        self.init_weights()\n",
    "        \n",
    "        # ===== Branch: Deeper CNN over (3, 50, 128) =====\n",
    "        self.branch = nn.Sequential(\n",
    "            nn.Conv2d(3, 32, kernel_size=3, padding=1),   # (B, 32, 50, 128)\n",
    "            nn.BatchNorm2d(32),\n",
    "            nn.ReLU(),\n",
    "\n",
    "            nn.Conv2d(32, 64, kernel_size=3, padding=1),  # (B, 64, 50, 128)\n",
    "            nn.BatchNorm2d(64),\n",
    "            nn.ReLU(),\n",
    "\n",
    "            nn.Conv2d(64, 128, kernel_size=3, padding=1),  # (B, 128, 50, 128)\n",
    "            nn.BatchNorm2d(128),\n",
    "            nn.ReLU(),\n",
    "\n",
    "            nn.Conv2d(128, 64, kernel_size=3, padding=1),  # (B, 64, 50, 128)\n",
    "            nn.BatchNorm2d(64),\n",
    "            nn.ReLU(),\n",
    "\n",
    "            nn.Conv2d(64, 1, kernel_size=3, padding=1),    # (B, 1, 50, 128)\n",
    "            nn.Flatten(start_dim=1),                       # (B, 50*128)\n",
    "        )\n",
    "        \n",
    "        # ===== Trunk: Time embedding to match spatial size =====\n",
    "        self.trunk = nn.Sequential(\n",
    "            nn.Linear(1, 64),\n",
    "            nn.ReLU(),\n",
    "            nn.Linear(64, 128),\n",
    "            nn.ReLU(),\n",
    "            nn.Linear(128, 256),\n",
    "            nn.ReLU(),\n",
    "            nn.Linear(256, 256),\n",
    "            nn.ReLU(),\n",
    "            nn.Linear(256, 128),\n",
    "            nn.ReLU(),\n",
    "            nn.Linear(128, 50 * 128),  # must match flattened spatial size\n",
    "        )\n",
    "        \n",
    "    def forward(self, x, t):\n",
    "        B_out = self.branch(x)  # (B, 50*128)\n",
    "        T_out = self.trunk(t)    # (B, 50*128)\n",
    "        out = B_out * T_out      # (B, 50*128)\n",
    "        out = out.view(-1, 50, 128)  # (B, 50, 128)\n",
    "        return out\n"
   ]
  },
  {
   "cell_type": "code",
   "execution_count": null,
   "id": "6693d896",
   "metadata": {},
   "outputs": [],
   "source": [
    "def compute_physics_loss(model, X, t, κ=1e-6, ν=1e-6, dz=0.0078, dx=0.0078):\n",
    "    pred_b = model(X, t).squeeze(0)  # (50,128)\n",
    "    u = X[0, 0]\n",
    "    w = X[0, 1]\n",
    "    p = X[0, 2]\n",
    "\n",
    "    # Pad with dummy dim\n",
    "    def pad2d(f): return torch.nn.functional.pad(f.unsqueeze(0), (1,1,1,1), mode='replicate').squeeze(0)\n",
    "\n",
    "    b_pad = pad2d(pred_b)\n",
    "    u_pad = pad2d(u)\n",
    "    w_pad = pad2d(w)\n",
    "    p_pad = pad2d(p)\n",
    "\n",
    "    # Derivatives (central diff)\n",
    "    b_x = (b_pad[1:-1, 2:] - b_pad[1:-1, :-2]) / (2 * dx)\n",
    "    b_z = (b_pad[2:, 1:-1] - b_pad[:-2, 1:-1]) / (2 * dz)\n",
    "    b_xx = (b_pad[1:-1, 2:] - 2 * pred_b + b_pad[1:-1, :-2]) / dx**2\n",
    "    b_zz = (b_pad[2:, 1:-1] - 2 * pred_b + b_pad[:-2, 1:-1]) / dz**2\n",
    "\n",
    "    u_x = (u_pad[1:-1, 2:] - u_pad[1:-1, :-2]) / (2 * dx)\n",
    "    u_zz = (u_pad[2:, 1:-1] - 2 * u + u_pad[:-2, 1:-1]) / dz**2\n",
    "    u_xx = (u_pad[1:-1, 2:] - 2 * u + u_pad[1:-1, :-2]) / dx**2\n",
    "\n",
    "    w_z = (w_pad[2:, 1:-1] - w_pad[:-2, 1:-1]) / (2 * dz)\n",
    "    w_xx = (w_pad[1:-1, 2:] - 2 * w + w_pad[1:-1, :-2]) / dx**2\n",
    "    w_zz = (w_pad[2:, 1:-1] - 2 * w + w_pad[:-2, 1:-1]) / dz**2\n",
    "\n",
    "    p_x = (p_pad[1:-1, 2:] - p_pad[1:-1, :-2]) / (2 * dx)\n",
    "    p_z = (p_pad[2:, 1:-1] - p_pad[:-2, 1:-1]) / (2 * dz)\n",
    "\n",
    "    # Residuals\n",
    "    advection_b = u * b_x + w * b_z\n",
    "    diffusion_b = κ * (b_xx + b_zz)\n",
    "    residual_b = advection_b - diffusion_b  # ∂b/∂t is zero in steady\n",
    "\n",
    "    adv_u = u * u_x + w * ((u_pad[2:, 1:-1] - u_pad[:-2, 1:-1]) / (2 * dz))\n",
    "    diff_u = ν * (u_xx + u_zz)\n",
    "    mom_x = adv_u + p_x - diff_u\n",
    "\n",
    "    adv_w = u * ((w_pad[1:-1, 2:] - w_pad[1:-1, :-2]) / (2 * dx)) + w * w_z\n",
    "    diff_w = ν * (w_xx + w_zz)\n",
    "    mom_z = adv_w + p_z - diff_w - pred_b\n",
    "\n",
    "    div = u_x + w_z\n",
    "\n",
    "    bc_top = torch.mean((pred_b[-1, :] - 0.5) ** 2)\n",
    "    bc_bottom = torch.mean((pred_b[0, :] - 0.0) ** 2)\n",
    "    bc_periodic = torch.mean((pred_b[:, 0] - pred_b[:, -1]) ** 2)\n",
    "\n",
    "    loss_b = torch.mean(residual_b ** 2)\n",
    "    loss_mom = torch.mean(mom_x ** 2) + torch.mean(mom_z ** 2)\n",
    "    loss_div = torch.mean(div ** 2)\n",
    "    loss_bc = bc_top + bc_bottom + bc_periodic\n",
    "\n",
    "    total_phy = loss_b + 0.5 * loss_mom + 0.1 * loss_div + 0.5 * loss_bc\n",
    "    return total_phy\n"
   ]
  },
  {
   "cell_type": "code",
   "execution_count": null,
   "id": "5b711e97",
   "metadata": {},
   "outputs": [
    {
     "name": "stdout",
     "output_type": "stream",
     "text": [
      "[Epoch 0] Total: 1.818511 | IC: 0.997685 | Physics: 0.820826\n",
      "[Epoch 500] Total: 1.569584 | IC: 0.859961 | Physics: 0.709624\n",
      "[Epoch 1000] Total: 1.497848 | IC: 0.885905 | Physics: 0.611943\n",
      "[Epoch 1500] Total: 1.488578 | IC: 0.927708 | Physics: 0.560870\n",
      "[Epoch 2000] Total: 1.573566 | IC: 0.903664 | Physics: 0.669902\n",
      "[Epoch 2500] Total: 1.495760 | IC: 0.934516 | Physics: 0.561244\n",
      "[Epoch 2999] Total: 1.476186 | IC: 0.932436 | Physics: 0.543750\n"
     ]
    }
   ],
   "source": [
    "# ==========================\n",
    "# Model Setup\n",
    "# ==========================\n",
    "model = DeepONetCNN().to(device)\n",
    "model.init_weights()  # Assuming you added the Xavier init method\n",
    "optimizer = torch.optim.Adam(model.parameters(), lr=1e-3)\n",
    "mse = torch.nn.MSELoss()\n",
    "\n",
    "# ==========================\n",
    "# Training Loop\n",
    "# ==========================\n",
    "epochs = 3000\n",
    "\n",
    "for epoch in range(epochs):\n",
    "    model.train()\n",
    "\n",
    "    pred_init = model(X_init, t_init)  # (1, 50, 128)\n",
    "    ic_loss = mse(pred_init, Y_init)\n",
    "\n",
    "    phy_loss = compute_physics_loss(model, X_init, t_init)\n",
    "\n",
    "    total_loss = ic_loss + phy_loss\n",
    "\n",
    "    optimizer.zero_grad()\n",
    "    total_loss.backward()\n",
    "    optimizer.step()\n",
    "\n",
    "    if epoch % 500 == 0 or epoch == epochs - 1:\n",
    "        print(f\"[Epoch {epoch}] Total: {total_loss.item():.6f} | IC: {ic_loss.item():.6f} | Physics: {phy_loss.item():.6f}\")\n"
   ]
  },
  {
   "cell_type": "code",
   "execution_count": null,
   "id": "d64ba25e",
   "metadata": {},
   "outputs": [],
   "source": [
    "model.eval()\n",
    "with torch.no_grad():\n",
    "    pred_target = model(X_init, t_target)\n",
    "    pred_target_np = pred_target.cpu().numpy().squeeze(0) * targets_std + targets_mean\n",
    "    true_target_np = Y_target.cpu().numpy().squeeze(0) * targets_std + targets_mean\n"
   ]
  },
  {
   "cell_type": "code",
   "execution_count": null,
   "id": "5bf9c356",
   "metadata": {},
   "outputs": [
    {
     "ename": "NameError",
     "evalue": "name 'pred_target_np' is not defined",
     "output_type": "error",
     "traceback": [
      "\u001b[1;31m---------------------------------------------------------------------------\u001b[0m",
      "\u001b[1;31mNameError\u001b[0m                                 Traceback (most recent call last)",
      "Cell \u001b[1;32mIn[1], line 3\u001b[0m\n\u001b[0;32m      1\u001b[0m \u001b[38;5;28;01mimport\u001b[39;00m \u001b[38;5;21;01mmatplotlib\u001b[39;00m\u001b[38;5;21;01m.\u001b[39;00m\u001b[38;5;21;01mpyplot\u001b[39;00m \u001b[38;5;28;01mas\u001b[39;00m \u001b[38;5;21;01mplt\u001b[39;00m\n\u001b[1;32m----> 3\u001b[0m b_pred_avg \u001b[38;5;241m=\u001b[39m \u001b[43mpred_target_np\u001b[49m\u001b[38;5;241m.\u001b[39mmean(axis\u001b[38;5;241m=\u001b[39m\u001b[38;5;241m1\u001b[39m)    \u001b[38;5;66;03m# (50,)\u001b[39;00m\n\u001b[0;32m      4\u001b[0m b_true_avg \u001b[38;5;241m=\u001b[39m true_target_np\u001b[38;5;241m.\u001b[39mmean(axis\u001b[38;5;241m=\u001b[39m\u001b[38;5;241m1\u001b[39m)    \u001b[38;5;66;03m# (50,)\u001b[39;00m\n\u001b[0;32m      6\u001b[0m time \u001b[38;5;241m=\u001b[39m time_vals[:\u001b[38;5;241m50\u001b[39m]  \u001b[38;5;66;03m# Use first 50 time steps for plotting\u001b[39;00m\n",
      "\u001b[1;31mNameError\u001b[0m: name 'pred_target_np' is not defined"
     ]
    }
   ],
   "source": [
    "import matplotlib.pyplot as plt\n",
    "\n",
    "b_pred_avg = pred_target_np.mean(axis=1)    # (50,)\n",
    "b_true_avg = true_target_np.mean(axis=1)    # (50,)\n",
    "\n",
    "time = time_vals[:50]  # Use first 50 time steps for plotting\n",
    "\n",
    "plt.figure(figsize=(6,5))\n",
    "plt.plot(b_true_avg, z_vals, label=f'True b @ t={time[target_idx]:.2e}', marker='o')\n",
    "plt.plot(b_pred_avg, z_vals, label=f'Pred b @ t={time[target_idx]:.2e}', linestyle='--', marker='x')\n",
    "plt.gca().invert_yaxis()\n",
    "plt.xlabel('Δb')\n",
    "plt.ylabel('Depth (z)')\n",
    "plt.title('Zero-Shot PINN Prediction')\n",
    "plt.legend()\n",
    "plt.grid(True)\n",
    "plt.show()\n"
   ]
  }
 ],
 "metadata": {
  "kernelspec": {
   "display_name": "Python 3",
   "language": "python",
   "name": "python3"
  },
  "language_info": {
   "codemirror_mode": {
    "name": "ipython",
    "version": 3
   },
   "file_extension": ".py",
   "mimetype": "text/x-python",
   "name": "python",
   "nbconvert_exporter": "python",
   "pygments_lexer": "ipython3",
   "version": "3.12.4"
  }
 },
 "nbformat": 4,
 "nbformat_minor": 5
}
