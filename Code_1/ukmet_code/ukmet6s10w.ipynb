{
 "cells": [
  {
   "cell_type": "code",
   "execution_count": 2,
   "id": "6dd1f4a0",
   "metadata": {},
   "outputs": [],
   "source": [
    "import netCDF4\n",
    "import xarray as xr\n",
    "import pandas as pd\n",
    "import numpy as np\n",
    "import matplotlib.pyplot as plt\n",
    "import seaborn as sns\n",
    "import gsw\n",
    "import os"
   ]
  },
  {
   "cell_type": "code",
   "execution_count": 14,
   "id": "d8a0771f",
   "metadata": {},
   "outputs": [],
   "source": [
    "# blank final df\n",
    "df_final = pd.DataFrame(columns=['time', 'depth', 'temperature', 'salinity'])"
   ]
  },
  {
   "cell_type": "code",
   "execution_count": null,
   "id": "149be8a4",
   "metadata": {},
   "outputs": [],
   "source": [
    "# path = \"./../../ukmet/EN.4.2.2.analyses.l09.2000/EN.4.2.2.f.analysis.l09.200001.nc\""
   ]
  },
  {
   "cell_type": "code",
   "execution_count": null,
   "id": "45770adc",
   "metadata": {},
   "outputs": [
    {
     "name": "stdout",
     "output_type": "stream",
     "text": [
      "<xarray.DataArray 'lat' (lat: 1)> Size: 4B\n",
      "array([-6.], dtype=float32)\n",
      "Coordinates:\n",
      "  * lat      (lat) float32 4B -6.0\n",
      "Attributes:\n",
      "    long_name:      latitude\n",
      "    units:          degrees_north\n",
      "    standard_name:  latitude\n",
      "<xarray.DataArray 'lon' (lon: 1)> Size: 4B\n",
      "array([350.], dtype=float32)\n",
      "Coordinates:\n",
      "  * lon      (lon) float32 4B 350.0\n",
      "Attributes:\n",
      "    long_name:      longitude\n",
      "    units:          degrees_east\n",
      "    standard_name:  longitude\n"
     ]
    }
   ],
   "source": [
    "# ds = xr.open_dataset(path)\n",
    "\n",
    "# # Find profiles near 6S 10W\n",
    "# mask = (abs(ds['lat'] + 6) < 0.5) & (abs((ds['lon'] % 360) - 350) < 0.5)\n",
    "# nearby_profiles = ds.where(mask, drop=True)\n",
    "\n",
    "# print(nearby_profiles['lat'])\n",
    "# print(nearby_profiles['lon'])\n"
   ]
  },
  {
   "cell_type": "markdown",
   "id": "893aa546",
   "metadata": {},
   "source": [
    "So we have exact 6S10W, i.e. -6.0 lat, 350.0 lon. We choose this profile."
   ]
  },
  {
   "cell_type": "code",
   "execution_count": null,
   "id": "eb80070d",
   "metadata": {},
   "outputs": [
    {
     "data": {
      "text/html": [
       "<div>\n",
       "<style scoped>\n",
       "    .dataframe tbody tr th:only-of-type {\n",
       "        vertical-align: middle;\n",
       "    }\n",
       "\n",
       "    .dataframe tbody tr th {\n",
       "        vertical-align: top;\n",
       "    }\n",
       "\n",
       "    .dataframe thead th {\n",
       "        text-align: right;\n",
       "    }\n",
       "</style>\n",
       "<table border=\"1\" class=\"dataframe\">\n",
       "  <thead>\n",
       "    <tr style=\"text-align: right;\">\n",
       "      <th></th>\n",
       "      <th>time</th>\n",
       "      <th>depth</th>\n",
       "      <th>lat</th>\n",
       "      <th>lon</th>\n",
       "      <th>bnds</th>\n",
       "      <th>temperature</th>\n",
       "      <th>salinity</th>\n",
       "      <th>temperature_uncertainty</th>\n",
       "      <th>salinity_uncertainty</th>\n",
       "      <th>temperature_observation_weights</th>\n",
       "      <th>salinity_observation_weights</th>\n",
       "      <th>time_bnds</th>\n",
       "      <th>depth_bnds</th>\n",
       "    </tr>\n",
       "  </thead>\n",
       "  <tbody>\n",
       "    <tr>\n",
       "      <th>0</th>\n",
       "      <td>2000-01-16 12:00:00</td>\n",
       "      <td>5.02159</td>\n",
       "      <td>-6.0</td>\n",
       "      <td>350.0</td>\n",
       "      <td>0</td>\n",
       "      <td>299.313027</td>\n",
       "      <td>35.870613</td>\n",
       "      <td>0.621887</td>\n",
       "      <td>0.084526</td>\n",
       "      <td>1.007349</td>\n",
       "      <td>0.988412</td>\n",
       "      <td>2000-01-01</td>\n",
       "      <td>0.000000</td>\n",
       "    </tr>\n",
       "    <tr>\n",
       "      <th>1</th>\n",
       "      <td>2000-01-16 12:00:00</td>\n",
       "      <td>5.02159</td>\n",
       "      <td>-6.0</td>\n",
       "      <td>350.0</td>\n",
       "      <td>1</td>\n",
       "      <td>299.313027</td>\n",
       "      <td>35.870613</td>\n",
       "      <td>0.621887</td>\n",
       "      <td>0.084526</td>\n",
       "      <td>1.007349</td>\n",
       "      <td>0.988412</td>\n",
       "      <td>2000-02-01</td>\n",
       "      <td>10.047500</td>\n",
       "    </tr>\n",
       "    <tr>\n",
       "      <th>2</th>\n",
       "      <td>2000-01-16 12:00:00</td>\n",
       "      <td>15.07854</td>\n",
       "      <td>-6.0</td>\n",
       "      <td>350.0</td>\n",
       "      <td>0</td>\n",
       "      <td>299.336867</td>\n",
       "      <td>35.918091</td>\n",
       "      <td>0.662750</td>\n",
       "      <td>0.095002</td>\n",
       "      <td>1.003931</td>\n",
       "      <td>0.929268</td>\n",
       "      <td>2000-01-01</td>\n",
       "      <td>10.047500</td>\n",
       "    </tr>\n",
       "    <tr>\n",
       "      <th>3</th>\n",
       "      <td>2000-01-16 12:00:00</td>\n",
       "      <td>15.07854</td>\n",
       "      <td>-6.0</td>\n",
       "      <td>350.0</td>\n",
       "      <td>1</td>\n",
       "      <td>299.336867</td>\n",
       "      <td>35.918091</td>\n",
       "      <td>0.662750</td>\n",
       "      <td>0.095002</td>\n",
       "      <td>1.003931</td>\n",
       "      <td>0.929268</td>\n",
       "      <td>2000-02-01</td>\n",
       "      <td>20.115801</td>\n",
       "    </tr>\n",
       "    <tr>\n",
       "      <th>4</th>\n",
       "      <td>2000-01-16 12:00:00</td>\n",
       "      <td>25.16046</td>\n",
       "      <td>-6.0</td>\n",
       "      <td>350.0</td>\n",
       "      <td>0</td>\n",
       "      <td>299.290673</td>\n",
       "      <td>36.048550</td>\n",
       "      <td>0.609222</td>\n",
       "      <td>0.106646</td>\n",
       "      <td>1.005579</td>\n",
       "      <td>0.915094</td>\n",
       "      <td>2000-01-01</td>\n",
       "      <td>20.115801</td>\n",
       "    </tr>\n",
       "  </tbody>\n",
       "</table>\n",
       "</div>"
      ],
      "text/plain": [
       "                 time     depth  lat    lon  bnds  temperature   salinity  \\\n",
       "0 2000-01-16 12:00:00   5.02159 -6.0  350.0     0   299.313027  35.870613   \n",
       "1 2000-01-16 12:00:00   5.02159 -6.0  350.0     1   299.313027  35.870613   \n",
       "2 2000-01-16 12:00:00  15.07854 -6.0  350.0     0   299.336867  35.918091   \n",
       "3 2000-01-16 12:00:00  15.07854 -6.0  350.0     1   299.336867  35.918091   \n",
       "4 2000-01-16 12:00:00  25.16046 -6.0  350.0     0   299.290673  36.048550   \n",
       "\n",
       "   temperature_uncertainty  salinity_uncertainty  \\\n",
       "0                 0.621887              0.084526   \n",
       "1                 0.621887              0.084526   \n",
       "2                 0.662750              0.095002   \n",
       "3                 0.662750              0.095002   \n",
       "4                 0.609222              0.106646   \n",
       "\n",
       "   temperature_observation_weights  salinity_observation_weights  time_bnds  \\\n",
       "0                         1.007349                      0.988412 2000-01-01   \n",
       "1                         1.007349                      0.988412 2000-02-01   \n",
       "2                         1.003931                      0.929268 2000-01-01   \n",
       "3                         1.003931                      0.929268 2000-02-01   \n",
       "4                         1.005579                      0.915094 2000-01-01   \n",
       "\n",
       "   depth_bnds  \n",
       "0    0.000000  \n",
       "1   10.047500  \n",
       "2   10.047500  \n",
       "3   20.115801  \n",
       "4   20.115801  "
      ]
     },
     "execution_count": 63,
     "metadata": {},
     "output_type": "execute_result"
    }
   ],
   "source": [
    "# # convert to pandas dataframe\n",
    "# df = nearby_profiles.to_dataframe().reset_index()\n",
    "# df.head()\n"
   ]
  },
  {
   "cell_type": "code",
   "execution_count": null,
   "id": "052bbe94",
   "metadata": {},
   "outputs": [],
   "source": [
    "# # keep only date in 'time' column\n",
    "# df['time'] = pd.to_datetime(df['time'].dt.strftime('%Y-%m-%d'))\n",
    "# # drop unneeded columns\n",
    "# lat = -6.0\n",
    "# lon = 350.0\n",
    "# df = df.drop(columns=['lat', 'lon'])\n",
    "\n",
    "# # drop NaN values\n",
    "# df = df.dropna()\n",
    "\n",
    "# # we only need columns 'time', 'depth', 'temperature', 'salinity'\n",
    "# # remove rows with bnds col value 1 first\n",
    "# df = df[df['bnds'] == 0]\n",
    "# df = df[['time', 'depth', 'temperature', 'salinity']]\n",
    "\n",
    "# # convert temperature to celsius\n",
    "# df['temperature'] = df['temperature'] - 273.15"
   ]
  },
  {
   "cell_type": "code",
   "execution_count": null,
   "id": "ca7156a0",
   "metadata": {},
   "outputs": [
    {
     "data": {
      "text/html": [
       "<div>\n",
       "<style scoped>\n",
       "    .dataframe tbody tr th:only-of-type {\n",
       "        vertical-align: middle;\n",
       "    }\n",
       "\n",
       "    .dataframe tbody tr th {\n",
       "        vertical-align: top;\n",
       "    }\n",
       "\n",
       "    .dataframe thead th {\n",
       "        text-align: right;\n",
       "    }\n",
       "</style>\n",
       "<table border=\"1\" class=\"dataframe\">\n",
       "  <thead>\n",
       "    <tr style=\"text-align: right;\">\n",
       "      <th></th>\n",
       "      <th>time</th>\n",
       "      <th>depth</th>\n",
       "      <th>temperature</th>\n",
       "      <th>salinity</th>\n",
       "    </tr>\n",
       "  </thead>\n",
       "  <tbody>\n",
       "    <tr>\n",
       "      <th>0</th>\n",
       "      <td>2000-01-16</td>\n",
       "      <td>5.021590</td>\n",
       "      <td>26.163027</td>\n",
       "      <td>35.870613</td>\n",
       "    </tr>\n",
       "    <tr>\n",
       "      <th>2</th>\n",
       "      <td>2000-01-16</td>\n",
       "      <td>15.078540</td>\n",
       "      <td>26.186867</td>\n",
       "      <td>35.918091</td>\n",
       "    </tr>\n",
       "    <tr>\n",
       "      <th>4</th>\n",
       "      <td>2000-01-16</td>\n",
       "      <td>25.160460</td>\n",
       "      <td>26.140673</td>\n",
       "      <td>36.048550</td>\n",
       "    </tr>\n",
       "    <tr>\n",
       "      <th>6</th>\n",
       "      <td>2000-01-16</td>\n",
       "      <td>35.278290</td>\n",
       "      <td>26.199018</td>\n",
       "      <td>36.022953</td>\n",
       "    </tr>\n",
       "    <tr>\n",
       "      <th>8</th>\n",
       "      <td>2000-01-16</td>\n",
       "      <td>45.447762</td>\n",
       "      <td>25.729147</td>\n",
       "      <td>35.992920</td>\n",
       "    </tr>\n",
       "  </tbody>\n",
       "</table>\n",
       "</div>"
      ],
      "text/plain": [
       "        time      depth  temperature   salinity\n",
       "0 2000-01-16   5.021590    26.163027  35.870613\n",
       "2 2000-01-16  15.078540    26.186867  35.918091\n",
       "4 2000-01-16  25.160460    26.140673  36.048550\n",
       "6 2000-01-16  35.278290    26.199018  36.022953\n",
       "8 2000-01-16  45.447762    25.729147  35.992920"
      ]
     },
     "execution_count": 65,
     "metadata": {},
     "output_type": "execute_result"
    }
   ],
   "source": [
    "# df.head()"
   ]
  },
  {
   "cell_type": "markdown",
   "id": "800a57ab",
   "metadata": {},
   "source": [
    "### Processing all datafiles and creating a final df to store the data for 6S10W\n"
   ]
  },
  {
   "cell_type": "code",
   "execution_count": 9,
   "id": "4efc2dde",
   "metadata": {},
   "outputs": [
    {
     "name": "stderr",
     "output_type": "stream",
     "text": [
      "C:\\Users\\deban\\AppData\\Local\\Temp\\ipykernel_13488\\2052505922.py:36: FutureWarning: The behavior of DataFrame concatenation with empty or all-NA entries is deprecated. In a future version, this will no longer exclude empty or all-NA columns when determining the result dtypes. To retain the old behavior, exclude the relevant entries before the concat operation.\n",
      "  df_final = pd.concat([df_final, df], ignore_index=True)\n"
     ]
    }
   ],
   "source": [
    "folder_path = \"./../../ukmet/\"\n",
    "# loop through folders in this folder, each folder contains some netcdf files open each of those\n",
    "for root, dirs, files in os.walk(folder_path):\n",
    "    for file in files:\n",
    "        if file.endswith(\".nc\"):\n",
    "            file_path = os.path.join(root, file)\n",
    "            ds = xr.open_dataset(file_path)\n",
    "            mask = (abs(ds['lat'] + 6) < 0.5) & (abs((ds['lon'] % 360) - 350) < 0.5)\n",
    "            nearby_profiles = ds.where(mask, drop=True)\n",
    "\n",
    "            # convert to pandas dataframe\n",
    "            df = nearby_profiles.to_dataframe().reset_index()\n",
    "\n",
    "            # keep only date in 'time' column\n",
    "            df['time'] = pd.to_datetime(df['time'].dt.strftime('%Y-%m-%d'))\n",
    "            # drop unneeded columns\n",
    "            lat = -6.0\n",
    "            lon = 350.0\n",
    "            df = df.drop(columns=['lat', 'lon'])\n",
    "\n",
    "            # drop NaN values\n",
    "            df = df.dropna()\n",
    "\n",
    "            # we only need columns 'time', 'depth', 'temperature', 'salinity'\n",
    "            # remove rows with bnds col value 1 first\n",
    "            df = df[df['bnds'] == 0]\n",
    "            df = df[['time', 'depth', 'temperature', 'salinity']]\n",
    "\n",
    "            # convert temperature to celsius\n",
    "            df['temperature'] = df['temperature'] - 273.15\n",
    "\n",
    "            # ignore all depths above 200m\n",
    "            # df = df[df['depth'] < 200]\n",
    "\n",
    "            # append to final df\n",
    "            df_final = pd.concat([df_final, df], ignore_index=True)\n",
    "            "
   ]
  },
  {
   "cell_type": "code",
   "execution_count": 10,
   "id": "b0328998",
   "metadata": {},
   "outputs": [],
   "source": [
    "df_final.to_csv('ukmet_6S_10W.csv', index=False)"
   ]
  },
  {
   "cell_type": "markdown",
   "id": "9902b3b7",
   "metadata": {},
   "source": [
    "### Final Density Calculation from refined csv"
   ]
  },
  {
   "cell_type": "code",
   "execution_count": 16,
   "id": "66d70de6",
   "metadata": {},
   "outputs": [],
   "source": [
    "df = pd.read_csv('ukmet_6S_10W.csv')\n",
    "df['time'] = pd.to_datetime(df['time'])"
   ]
  },
  {
   "cell_type": "code",
   "execution_count": 17,
   "id": "5fc33961",
   "metadata": {},
   "outputs": [],
   "source": [
    "lat = -6.0\n",
    "lon = 350.0\n",
    "\n",
    "# p = gsw.p_from_z(-df['depth'].values, lat=0)\n",
    "# SA = gsw.SA_from_SP(df['S_41'].values, p, lon=0, lat=0)\n",
    "# CT = gsw.CT_from_t(SA, df['T_21'].values, p)\n",
    "# sigma_theta = gsw.sigma0(SA, CT)\n",
    "\n",
    "p = gsw.p_from_z(-df['depth'].values, lat=lat)\n",
    "df['SA'] = gsw.SA_from_SP(df['salinity'].values, p, lon=lon, lat=lat).round(8)\n",
    "df['CT'] = gsw.CT_from_t(df['SA'].values, df['temperature'].values, p).round(8)\n",
    "df['STH_pred'] = gsw.sigma0(df['SA'].values, df['CT'].values).round(8)\n",
    "df['rho_pred'] = gsw.rho(df['SA'].values, df['CT'].values, p).round(8) - 1000.0"
   ]
  },
  {
   "cell_type": "code",
   "execution_count": 18,
   "id": "5c4bbf92",
   "metadata": {},
   "outputs": [],
   "source": [
    "df.to_csv(f'ukmet_results.csv', index=False)"
   ]
  }
 ],
 "metadata": {
  "kernelspec": {
   "display_name": "Python 3",
   "language": "python",
   "name": "python3"
  },
  "language_info": {
   "codemirror_mode": {
    "name": "ipython",
    "version": 3
   },
   "file_extension": ".py",
   "mimetype": "text/x-python",
   "name": "python",
   "nbconvert_exporter": "python",
   "pygments_lexer": "ipython3",
   "version": "3.12.4"
  }
 },
 "nbformat": 4,
 "nbformat_minor": 5
}
